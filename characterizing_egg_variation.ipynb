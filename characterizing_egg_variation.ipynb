{
 "cells": [
  {
   "cell_type": "markdown",
   "id": "cefb6edb",
   "metadata": {},
   "source": [
    "## Week 6 - Characterizing egg variation"
   ]
  },
  {
   "cell_type": "code",
   "execution_count": 6,
   "id": "ec741e4c",
   "metadata": {},
   "outputs": [
    {
     "name": "stdout",
     "output_type": "stream",
     "text": [
      "Arenaria interpres 21.12%\n",
      "Calidris alpina 5.46%\n",
      "Calidris fuscicollis 16.77%\n",
      "Charadrius semipalmatus 8.99%\n",
      "Phalaropus fulicarius 4.65%\n",
      "Pluvialis dominica 19.88%\n",
      "Pluvialis squatarola 6.94%\n"
     ]
    },
    {
     "name": "stderr",
     "output_type": "stream",
     "text": [
      "/var/folders/xv/0wmfjsw11859qnxbtrgsp26m0000gn/T/ipykernel_19246/3257002509.py:32: UserWarning: pandas only supports SQLAlchemy connectable (engine/connection) or database string URI or sqlite3 DBAPI2 connection. Other DBAPI2 objects are not tested. Please consider using SQLAlchemy.\n",
      "  df = pd.read_sql(egg_query, conn, params=(species_code,))\n"
     ]
    }
   ],
   "source": [
    "# Load libraries\n",
    "import duckdb\n",
    "import pandas as pd\n",
    "import os\n",
    "\n",
    "# Connect to the database\n",
    "db_path = os.path.join(os.getcwd(), 'bren-eds213-data', 'database', 'database.db')\n",
    "conn = duckdb.connect(db_path)\n",
    "c = conn.cursor()\n",
    "\n",
    "# Get distinct species with egg data\n",
    "species_query = \"\"\"\n",
    "SELECT DISTINCT s.Code, s.Scientific_name\n",
    "FROM Species s\n",
    "JOIN Bird_nests n ON s.Code = n.Species\n",
    "JOIN Bird_eggs e ON n.Nest_ID = e.Nest_ID\n",
    "ORDER BY s.Scientific_name;\n",
    "\"\"\"\n",
    "\n",
    "# Loop over species\n",
    "for row in c.execute(species_query).fetchall():\n",
    "    species_code = row[0]\n",
    "    scientific_name = row[1]\n",
    "\n",
    "    # Query egg volume data for the species\n",
    "    egg_query = \"\"\"\n",
    "    SELECT Width * Width * Length AS Volume\n",
    "    FROM Bird_eggs\n",
    "    JOIN Bird_nests ON Bird_eggs.Nest_ID = Bird_nests.Nest_ID\n",
    "    WHERE Bird_nests.Species = ?\n",
    "    \"\"\"\n",
    "    df = pd.read_sql(egg_query, conn, params=(species_code,))\n",
    "\n",
    "    # Skip species with no valid data\n",
    "    if df.empty or df['Volume'].mean() == 0:\n",
    "        continue\n",
    "\n",
    "    # Compute coefficient of variation (CV) and print\n",
    "    cv = round(df['Volume'].std() / df['Volume'].mean() * 100, 2)\n",
    "    print(f\"{scientific_name} {cv}%\")"
   ]
  }
 ],
 "metadata": {
  "kernelspec": {
   "display_name": "eds220-env",
   "language": "python",
   "name": "python3"
  },
  "language_info": {
   "codemirror_mode": {
    "name": "ipython",
    "version": 3
   },
   "file_extension": ".py",
   "mimetype": "text/x-python",
   "name": "python",
   "nbconvert_exporter": "python",
   "pygments_lexer": "ipython3",
   "version": "3.11.4"
  }
 },
 "nbformat": 4,
 "nbformat_minor": 5
}
